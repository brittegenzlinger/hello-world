{
  "cells": [
    {
      "cell_type": "markdown",
      "metadata": {
        "id": "view-in-github",
        "colab_type": "text"
      },
      "source": [
        "<a href=\"https://colab.research.google.com/github/brittegenzlinger/hello-world/blob/master/project_data_science_teacher.ipynb\" target=\"_parent\"><img src=\"https://colab.research.google.com/assets/colab-badge.svg\" alt=\"Open In Colab\"/></a>"
      ]
    },
    {
      "cell_type": "markdown",
      "id": "worldwide-blood",
      "metadata": {
        "id": "worldwide-blood"
      },
      "source": [
        "# **Introduction**\n",
        "\n",
        "> **Provide a short introduction to the narrative will explore in your project.**\n",
        ">\n",
        "> - What did you investigate and why did you choose that topic?\n",
        "> - What perioid of time(s) did you focus on?\n",
        "> - Did you have any initial hypothesis about your data set? \n",
        ">\n",
        "> *Before final submission, delete this section*\n",
        "\n",
        "✏️ Your text goes here."
      ]
    },
    {
      "cell_type": "markdown",
      "id": "permanent-pollution",
      "metadata": {
        "id": "permanent-pollution"
      },
      "source": [
        "# **Data**\n",
        "\n",
        "> **Describe your dataset.** This may include adding in any additional columns, or removing any columns for privacy of your personal data.\n",
        ">\n",
        "> - Did you choose the change it? If so, why? \n",
        "> - How do those changes limit your findings? \n",
        ">\n",
        ">\n",
        "> *Before final submission, delete this section*\n",
        "\n",
        "\n",
        "✏️ Your text goes here."
      ]
    },
    {
      "cell_type": "code",
      "execution_count": 3,
      "id": "technical-evans",
      "metadata": {
        "id": "technical-evans"
      },
      "outputs": [],
      "source": [
        "#Include any import statements you will need\n",
        "import pandas as pd\n",
        "import matplotlib.pyplot as plt\n",
        "import seaborn as sns"
      ]
    },
    {
      "cell_type": "code",
      "source": [
        "from google.colab import drive\n",
        "drive.mount('/content/drive')"
      ],
      "metadata": {
        "id": "yS8U2UUoBSnk",
        "colab": {
          "base_uri": "https://localhost:8080/"
        },
        "outputId": "3358997c-14d2-4d90-c7b6-005b86fcfd05"
      },
      "id": "yS8U2UUoBSnk",
      "execution_count": 4,
      "outputs": [
        {
          "output_type": "stream",
          "name": "stdout",
          "text": [
            "Mounted at /content/drive\n"
          ]
        }
      ]
    },
    {
      "cell_type": "code",
      "execution_count": 5,
      "id": "overhead-sigma",
      "metadata": {
        "id": "overhead-sigma"
      },
      "outputs": [],
      "source": [
        "url = \"/content/drive/MyDrive/weather_data.csv\"\n",
        "\n",
        "df = pd.read_csv(url)\n",
        "\n",
        "\n",
        "# We recommend following the example project for how to convert columns to a date.time format"
      ]
    },
    {
      "cell_type": "code",
      "execution_count": 6,
      "id": "heated-blade",
      "metadata": {
        "id": "heated-blade",
        "colab": {
          "base_uri": "https://localhost:8080/",
          "height": 444
        },
        "outputId": "fea833f4-d31c-4c71-b80e-a0ca0f50af0b"
      },
      "outputs": [
        {
          "output_type": "execute_result",
          "data": {
            "text/plain": [
              "                 Time  Precipitation_Intensity  Humidity  Solar_Radiation  \\\n",
              "0  2021-01-01 0:00:00                        0     43.28             1.73   \n",
              "1  2021-01-01 0:30:00                        0     42.90             1.94   \n",
              "2  2021-01-01 1:00:00                        0     42.16             2.03   \n",
              "3  2021-01-01 1:30:00                        0     43.36             2.01   \n",
              "4  2021-01-01 2:00:00                        0     42.98             1.80   \n",
              "\n",
              "   Temperature  Wind_Speed    NO    NO2    CO     O3   SO2  \n",
              "0        10.53        0.21  6.42  10.35  6.68  35.87  7.63  \n",
              "1        10.33        0.09  6.46   9.75  6.68  36.41  7.59  \n",
              "2        10.31        0.43  6.11   9.84  6.69  36.66  7.71  \n",
              "3        10.08        0.27  6.47  21.93  6.68  35.15  7.62  \n",
              "4         9.92        0.24  6.37  12.02  6.68  35.26  7.46  "
            ],
            "text/html": [
              "\n",
              "  <div id=\"df-72435909-3a52-47f2-836a-a04466ce4d03\">\n",
              "    <div class=\"colab-df-container\">\n",
              "      <div>\n",
              "<style scoped>\n",
              "    .dataframe tbody tr th:only-of-type {\n",
              "        vertical-align: middle;\n",
              "    }\n",
              "\n",
              "    .dataframe tbody tr th {\n",
              "        vertical-align: top;\n",
              "    }\n",
              "\n",
              "    .dataframe thead th {\n",
              "        text-align: right;\n",
              "    }\n",
              "</style>\n",
              "<table border=\"1\" class=\"dataframe\">\n",
              "  <thead>\n",
              "    <tr style=\"text-align: right;\">\n",
              "      <th></th>\n",
              "      <th>Time</th>\n",
              "      <th>Precipitation_Intensity</th>\n",
              "      <th>Humidity</th>\n",
              "      <th>Solar_Radiation</th>\n",
              "      <th>Temperature</th>\n",
              "      <th>Wind_Speed</th>\n",
              "      <th>NO</th>\n",
              "      <th>NO2</th>\n",
              "      <th>CO</th>\n",
              "      <th>O3</th>\n",
              "      <th>SO2</th>\n",
              "    </tr>\n",
              "  </thead>\n",
              "  <tbody>\n",
              "    <tr>\n",
              "      <th>0</th>\n",
              "      <td>2021-01-01 0:00:00</td>\n",
              "      <td>0</td>\n",
              "      <td>43.28</td>\n",
              "      <td>1.73</td>\n",
              "      <td>10.53</td>\n",
              "      <td>0.21</td>\n",
              "      <td>6.42</td>\n",
              "      <td>10.35</td>\n",
              "      <td>6.68</td>\n",
              "      <td>35.87</td>\n",
              "      <td>7.63</td>\n",
              "    </tr>\n",
              "    <tr>\n",
              "      <th>1</th>\n",
              "      <td>2021-01-01 0:30:00</td>\n",
              "      <td>0</td>\n",
              "      <td>42.90</td>\n",
              "      <td>1.94</td>\n",
              "      <td>10.33</td>\n",
              "      <td>0.09</td>\n",
              "      <td>6.46</td>\n",
              "      <td>9.75</td>\n",
              "      <td>6.68</td>\n",
              "      <td>36.41</td>\n",
              "      <td>7.59</td>\n",
              "    </tr>\n",
              "    <tr>\n",
              "      <th>2</th>\n",
              "      <td>2021-01-01 1:00:00</td>\n",
              "      <td>0</td>\n",
              "      <td>42.16</td>\n",
              "      <td>2.03</td>\n",
              "      <td>10.31</td>\n",
              "      <td>0.43</td>\n",
              "      <td>6.11</td>\n",
              "      <td>9.84</td>\n",
              "      <td>6.69</td>\n",
              "      <td>36.66</td>\n",
              "      <td>7.71</td>\n",
              "    </tr>\n",
              "    <tr>\n",
              "      <th>3</th>\n",
              "      <td>2021-01-01 1:30:00</td>\n",
              "      <td>0</td>\n",
              "      <td>43.36</td>\n",
              "      <td>2.01</td>\n",
              "      <td>10.08</td>\n",
              "      <td>0.27</td>\n",
              "      <td>6.47</td>\n",
              "      <td>21.93</td>\n",
              "      <td>6.68</td>\n",
              "      <td>35.15</td>\n",
              "      <td>7.62</td>\n",
              "    </tr>\n",
              "    <tr>\n",
              "      <th>4</th>\n",
              "      <td>2021-01-01 2:00:00</td>\n",
              "      <td>0</td>\n",
              "      <td>42.98</td>\n",
              "      <td>1.80</td>\n",
              "      <td>9.92</td>\n",
              "      <td>0.24</td>\n",
              "      <td>6.37</td>\n",
              "      <td>12.02</td>\n",
              "      <td>6.68</td>\n",
              "      <td>35.26</td>\n",
              "      <td>7.46</td>\n",
              "    </tr>\n",
              "  </tbody>\n",
              "</table>\n",
              "</div>\n",
              "      <button class=\"colab-df-convert\" onclick=\"convertToInteractive('df-72435909-3a52-47f2-836a-a04466ce4d03')\"\n",
              "              title=\"Convert this dataframe to an interactive table.\"\n",
              "              style=\"display:none;\">\n",
              "        \n",
              "  <svg xmlns=\"http://www.w3.org/2000/svg\" height=\"24px\"viewBox=\"0 0 24 24\"\n",
              "       width=\"24px\">\n",
              "    <path d=\"M0 0h24v24H0V0z\" fill=\"none\"/>\n",
              "    <path d=\"M18.56 5.44l.94 2.06.94-2.06 2.06-.94-2.06-.94-.94-2.06-.94 2.06-2.06.94zm-11 1L8.5 8.5l.94-2.06 2.06-.94-2.06-.94L8.5 2.5l-.94 2.06-2.06.94zm10 10l.94 2.06.94-2.06 2.06-.94-2.06-.94-.94-2.06-.94 2.06-2.06.94z\"/><path d=\"M17.41 7.96l-1.37-1.37c-.4-.4-.92-.59-1.43-.59-.52 0-1.04.2-1.43.59L10.3 9.45l-7.72 7.72c-.78.78-.78 2.05 0 2.83L4 21.41c.39.39.9.59 1.41.59.51 0 1.02-.2 1.41-.59l7.78-7.78 2.81-2.81c.8-.78.8-2.07 0-2.86zM5.41 20L4 18.59l7.72-7.72 1.47 1.35L5.41 20z\"/>\n",
              "  </svg>\n",
              "      </button>\n",
              "      \n",
              "  <style>\n",
              "    .colab-df-container {\n",
              "      display:flex;\n",
              "      flex-wrap:wrap;\n",
              "      gap: 12px;\n",
              "    }\n",
              "\n",
              "    .colab-df-convert {\n",
              "      background-color: #E8F0FE;\n",
              "      border: none;\n",
              "      border-radius: 50%;\n",
              "      cursor: pointer;\n",
              "      display: none;\n",
              "      fill: #1967D2;\n",
              "      height: 32px;\n",
              "      padding: 0 0 0 0;\n",
              "      width: 32px;\n",
              "    }\n",
              "\n",
              "    .colab-df-convert:hover {\n",
              "      background-color: #E2EBFA;\n",
              "      box-shadow: 0px 1px 2px rgba(60, 64, 67, 0.3), 0px 1px 3px 1px rgba(60, 64, 67, 0.15);\n",
              "      fill: #174EA6;\n",
              "    }\n",
              "\n",
              "    [theme=dark] .colab-df-convert {\n",
              "      background-color: #3B4455;\n",
              "      fill: #D2E3FC;\n",
              "    }\n",
              "\n",
              "    [theme=dark] .colab-df-convert:hover {\n",
              "      background-color: #434B5C;\n",
              "      box-shadow: 0px 1px 3px 1px rgba(0, 0, 0, 0.15);\n",
              "      filter: drop-shadow(0px 1px 2px rgba(0, 0, 0, 0.3));\n",
              "      fill: #FFFFFF;\n",
              "    }\n",
              "  </style>\n",
              "\n",
              "      <script>\n",
              "        const buttonEl =\n",
              "          document.querySelector('#df-72435909-3a52-47f2-836a-a04466ce4d03 button.colab-df-convert');\n",
              "        buttonEl.style.display =\n",
              "          google.colab.kernel.accessAllowed ? 'block' : 'none';\n",
              "\n",
              "        async function convertToInteractive(key) {\n",
              "          const element = document.querySelector('#df-72435909-3a52-47f2-836a-a04466ce4d03');\n",
              "          const dataTable =\n",
              "            await google.colab.kernel.invokeFunction('convertToInteractive',\n",
              "                                                     [key], {});\n",
              "          if (!dataTable) return;\n",
              "\n",
              "          const docLinkHtml = 'Like what you see? Visit the ' +\n",
              "            '<a target=\"_blank\" href=https://colab.research.google.com/notebooks/data_table.ipynb>data table notebook</a>'\n",
              "            + ' to learn more about interactive tables.';\n",
              "          element.innerHTML = '';\n",
              "          dataTable['output_type'] = 'display_data';\n",
              "          await google.colab.output.renderOutput(dataTable, element);\n",
              "          const docLink = document.createElement('div');\n",
              "          docLink.innerHTML = docLinkHtml;\n",
              "          element.appendChild(docLink);\n",
              "        }\n",
              "      </script>\n",
              "    </div>\n",
              "  </div>\n",
              "  "
            ]
          },
          "metadata": {},
          "execution_count": 6
        }
      ],
      "source": [
        "df.head()"
      ]
    },
    {
      "cell_type": "markdown",
      "source": [
        "# Brainstorm"
      ],
      "metadata": {
        "id": "l7mD0rmf7a4W"
      },
      "id": "l7mD0rmf7a4W"
    },
    {
      "cell_type": "markdown",
      "source": [
        "> **You will use this section to brainstorm what you'd like to investigate in this project.**\n",
        ">\n",
        "> Fill in the questions. A teacher will come around and meet with you to discuss your brainstorm.\n",
        ">\n",
        ">\n",
        "> *Delete this section before submission*\n",
        "\n",
        "✏️ **Which columns are interesting to you?**\n",
        "- \n",
        "- \n",
        "- \n",
        "\n",
        "✏️ **Will you need to add or remove any columns?**\n",
        "- \n",
        "- \n",
        "- \n",
        "\n",
        "\n",
        "✏️ **Are you interested in comparing a column(s) to time?** If so, which column(s)?\n",
        "- \n",
        "- \n",
        "- \n",
        "\n",
        "✏️ **Are you interested in comparing columns to each other** If so, which columns?\n",
        "- \n",
        "- \n",
        "- \n",
        "\n",
        "✏️ **Brainstorm 3 narratives you can explore.**\n",
        "- \n",
        "- \n",
        "- \n",
        "\n",
        "✏️ **What is the overarching general topic you will explore? .**\n",
        "- \n",
        "- \n",
        "- \n",
        "\n",
        "✏️ **What are 3 sub-topics you are interested in exploring?.**\n",
        "- \n",
        "- \n",
        "- \n",
        "\n",
        "\n"
      ],
      "metadata": {
        "id": "Lbts0UYx7idl"
      },
      "id": "Lbts0UYx7idl"
    },
    {
      "cell_type": "code",
      "source": [
        "# use this cell, and any additional cells, to explore your data during the brainstorm"
      ],
      "metadata": {
        "id": "-g-VWJlA7dXL"
      },
      "id": "-g-VWJlA7dXL",
      "execution_count": null,
      "outputs": []
    },
    {
      "cell_type": "markdown",
      "source": [
        "# **Results**\n",
        "\n",
        "> **In 1- 2 sentences, explain what you will investigate and why?**\n",
        ">\n",
        "> Throughout this section, be sure to add text boxes to explain your methodology and results.\n",
        "> - Which aspects of the dataset will you use and why?\n",
        "> - How will you need to filter your data and why?\n",
        ">\n",
        ">---\n",
        ">\n",
        "> **Suggestions:**\n",
        ">\n",
        ">  We recommend reorganizing your data at least 3 times to properly explore your data and providence enough evidence for a substantial reflection.\n",
        ">\n",
        "> For iterative development, we suggest using comments or writing notes to yourself to track your progress. We will be looking at the comment and project history.\n",
        ">\n",
        "> Then towards the end of your project, you can turn your notes easily into sentences and elaborate for your narrative reflection.\n",
        "\n",
        "✏️  Your text goes here."
      ],
      "metadata": {
        "id": "UKpn6mDOxXTt"
      },
      "id": "UKpn6mDOxXTt"
    },
    {
      "cell_type": "markdown",
      "source": [
        "## General Overview: REPLACE THIS WITH YOUR TIME PERIOD"
      ],
      "metadata": {
        "id": "pmOdvOkdJBV0"
      },
      "id": "pmOdvOkdJBV0"
    },
    {
      "cell_type": "markdown",
      "source": [
        "add as many text blocks as necessary to accurately reflect and narrate the story of your data"
      ],
      "metadata": {
        "id": "1WRDi1BQ1Sar"
      },
      "id": "1WRDi1BQ1Sar"
    },
    {
      "cell_type": "code",
      "source": [
        "# your code goes here, add as many code blocks as necessary "
      ],
      "metadata": {
        "id": "OZs8oPBiG6rF"
      },
      "id": "OZs8oPBiG6rF",
      "execution_count": null,
      "outputs": []
    },
    {
      "cell_type": "markdown",
      "source": [
        "## Sub Topic: REPLACE THIS WITH YOUR SUB TOPIC"
      ],
      "metadata": {
        "id": "CnSzCym7cMU2"
      },
      "id": "CnSzCym7cMU2"
    },
    {
      "cell_type": "markdown",
      "source": [
        "\n",
        "\n",
        "add as many text blocks as necessary to accurately reflect and narrate the story of your data"
      ],
      "metadata": {
        "id": "w0NhIZyKKOkL"
      },
      "id": "w0NhIZyKKOkL"
    },
    {
      "cell_type": "code",
      "source": [
        "# your code goes here, add as many code blocks as necessary "
      ],
      "metadata": {
        "id": "bwKjoHKmKOkO"
      },
      "execution_count": null,
      "outputs": [],
      "id": "bwKjoHKmKOkO"
    },
    {
      "cell_type": "markdown",
      "id": "furnished-camping",
      "metadata": {
        "code_folding": [],
        "id": "furnished-camping"
      },
      "source": [
        "# **Summary**\n",
        "\n",
        "\n",
        "**Limitations**\n",
        "> **It's important to recognize the limitations of our research.\n",
        "> Consider the following:**\n",
        ">\n",
        "> - *Do the overall results give an accurate depiction of yourself? Why or why not?*\n",
        "> - *What were limitations of your datset and why do those exist?*\n",
        "\n",
        "✏️ Your text goes here.\n",
        "\n",
        "**Conclusion**\n",
        "\n",
        "\n",
        "> **Summarize what you discovered through the research. Consider the following:**\n",
        ">\n",
        "> - *What did you learn about yourself through this project?*\n",
        "> - *Did the results make sense?*\n",
        "> - *What was most surprising and why?*\n",
        "> - *How will this project impact you going forward?*\n",
        "> - *If you had more time or knowledge, what you would be interested in researching?*\n",
        "\n",
        "✏️ Your text goes here.\n"
      ]
    },
    {
      "cell_type": "code",
      "source": [],
      "metadata": {
        "id": "LVS507ixXo79"
      },
      "id": "LVS507ixXo79",
      "execution_count": null,
      "outputs": []
    }
  ],
  "metadata": {
    "jupytext": {
      "cell_metadata_json": true,
      "text_representation": {
        "extension": ".Rmd",
        "format_name": "rmarkdown",
        "format_version": "1.2",
        "jupytext_version": "1.9.1"
      }
    },
    "kernelspec": {
      "display_name": "Python 3 (ipykernel)",
      "language": "python",
      "name": "python3"
    },
    "language_info": {
      "codemirror_mode": {
        "name": "ipython",
        "version": 3
      },
      "file_extension": ".py",
      "mimetype": "text/x-python",
      "name": "python",
      "nbconvert_exporter": "python",
      "pygments_lexer": "ipython3",
      "version": "3.9.7"
    },
    "toc": {
      "base_numbering": 1,
      "nav_menu": {},
      "number_sections": false,
      "sideBar": true,
      "skip_h1_title": false,
      "title_cell": "Table of Contents",
      "title_sidebar": "Contents",
      "toc_cell": false,
      "toc_position": {},
      "toc_section_display": true,
      "toc_window_display": false
    },
    "varInspector": {
      "cols": {
        "lenName": 16,
        "lenType": 16,
        "lenVar": 40
      },
      "kernels_config": {
        "python": {
          "delete_cmd_postfix": "",
          "delete_cmd_prefix": "del ",
          "library": "var_list.py",
          "varRefreshCmd": "print(var_dic_list())"
        },
        "r": {
          "delete_cmd_postfix": ") ",
          "delete_cmd_prefix": "rm(",
          "library": "var_list.r",
          "varRefreshCmd": "cat(var_dic_list()) "
        }
      },
      "types_to_exclude": [
        "module",
        "function",
        "builtin_function_or_method",
        "instance",
        "_Feature"
      ],
      "window_display": false
    },
    "colab": {
      "provenance": [],
      "include_colab_link": true
    }
  },
  "nbformat": 4,
  "nbformat_minor": 5
}